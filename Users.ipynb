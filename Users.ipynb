{
  "nbformat": 4,
  "nbformat_minor": 0,
  "metadata": {
    "colab": {
      "name": "Untitled0.ipynb",
      "provenance": [],
      "collapsed_sections": [],
      "authorship_tag": "ABX9TyNSfwsl1rWjyJijTD+HUHdz",
      "include_colab_link": true
    },
    "kernelspec": {
      "name": "python3",
      "display_name": "Python 3"
    },
    "language_info": {
      "name": "python"
    }
  },
  "cells": [
    {
      "cell_type": "markdown",
      "metadata": {
        "id": "view-in-github",
        "colab_type": "text"
      },
      "source": [
        "<a href=\"https://colab.research.google.com/github/diegoavarela/colab-tests/blob/main/Users.ipynb\" target=\"_parent\"><img src=\"https://colab.research.google.com/assets/colab-badge.svg\" alt=\"Open In Colab\"/></a>"
      ]
    },
    {
      "cell_type": "markdown",
      "metadata": {
        "id": "-UAZTfQ9yT8a"
      },
      "source": [
        "# Return users\n"
      ]
    },
    {
      "cell_type": "code",
      "metadata": {
        "id": "r_fdkv6DxJgD"
      },
      "source": [
        "def new_returning_users(users):\n",
        "  \n",
        "  new = 0\n",
        "  returning = 0  \n",
        "  \n",
        "  if users.ndim == 2:\n",
        "    returning = users[1]\n",
        "    new = users[0]\n",
        "  else:\n",
        "    returning = users\n",
        "\n",
        "  return  [new , returning]"
      ],
      "execution_count": 4,
      "outputs": []
    },
    {
      "cell_type": "markdown",
      "metadata": {
        "id": "UZyT2A4gyYXI"
      },
      "source": [
        "# Read File\n"
      ]
    },
    {
      "cell_type": "code",
      "metadata": {
        "id": "bLHudsrST-vz"
      },
      "source": [
        "import pandas as pd\n",
        "import seaborn as sns\n",
        "import numpy as np\n",
        "import matplotlib.pyplot as plt\n",
        "import matplotlib.patches as mpatches\n",
        "\n",
        "dic_users = { 1: 'New User', 2: 'Returning User'}\n",
        "\n",
        "users = pd.read_csv('/content/support_files/New vs Returning - Connected Sheet 1.csv')\n",
        "\n",
        "users_sliced = users.copy()\n",
        "\n",
        "users_sliced[ 'Amount Users'] = 0\n",
        "users_sliced = users_sliced[['user_type','client', 'Amount Users']]\n",
        "users_sliced = users_sliced.groupby([ 'user_type', 'client'])['Amount Users'].count().reset_index()\n",
        "users_sliced = users_sliced.sort_values(by='Amount Users', ascending=False).reset_index()\n",
        "\n",
        "#users_sliced = users_sliced.head(20)\n",
        "\n",
        "plt.figure(figsize=(8,10))\n",
        "\n",
        "# bar chart 1 -> top bars (group of 'smoker=No')\n",
        "bar1 = sns.barplot(x=\"Amount Users\",  y=\"client\", data=users_sliced, color='darkblue', orient='h')\n",
        "\n",
        "\n",
        "\n",
        "# bottom bar ->  take only smoker=Yes values from the data\n",
        "final = users_sliced[users_sliced.user_type == dic_users[1]]\n",
        "\n",
        "\n",
        "# bar chart 2 -> bottom bars (group of 'smoker=Yes')\n",
        "bar2 = sns.barplot(x=\"Amount Users\", y=\"client\", data=final, estimator=sum, ci=100,  color='lightblue', orient='h')\n",
        "\n",
        "\n",
        "# add legend\n",
        "top_bar = mpatches.Patch(color='darkblue', label='Returning Users')\n",
        "bottom_bar = mpatches.Patch(color='lightblue', label='New Users')\n",
        "plt.legend(handles=[top_bar, bottom_bar])"
      ],
      "execution_count": null,
      "outputs": []
    },
    {
      "cell_type": "code",
      "metadata": {
        "id": "vvWaduZxxLBr"
      },
      "source": [
        ""
      ],
      "execution_count": null,
      "outputs": []
    }
  ]
}