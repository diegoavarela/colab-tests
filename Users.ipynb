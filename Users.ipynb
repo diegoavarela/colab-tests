{
  "nbformat": 4,
  "nbformat_minor": 0,
  "metadata": {
    "colab": {
      "name": "Users.ipynb",
      "provenance": [],
      "collapsed_sections": [
        "EoC0ndFyZjlP",
        "l5mrXlKEZsbc",
        "4BiDOTqJ2lTF",
        "k5teT0syOeWw",
        "2akO00tdi9HW"
      ],
      "authorship_tag": "ABX9TyOylmkHQ9F5yMlXrDMjSnbI",
      "include_colab_link": true
    },
    "kernelspec": {
      "name": "python3",
      "display_name": "Python 3"
    },
    "language_info": {
      "name": "python"
    }
  },
  "cells": [
    {
      "cell_type": "markdown",
      "metadata": {
        "id": "view-in-github",
        "colab_type": "text"
      },
      "source": [
        "<a href=\"https://colab.research.google.com/github/diegoavarela/colab-tests/blob/main/Users.ipynb\" target=\"_parent\"><img src=\"https://colab.research.google.com/assets/colab-badge.svg\" alt=\"Open In Colab\"/></a>"
      ]
    },
    {
      "cell_type": "markdown",
      "metadata": {
        "id": "EoC0ndFyZjlP"
      },
      "source": [
        "# Installations"
      ]
    },
    {
      "cell_type": "code",
      "metadata": {
        "id": "Xu4oQoD_30g9"
      },
      "source": [
        "!pip3 install plotly-geo\n",
        "!pip3 install plotly==5.3.1\n",
        "\n",
        "!pip3 install geopandas==0.3.0\n",
        "!pip3 install pyshp==1.2.10\n",
        "!pip3 install shapely==1.6.3\n",
        "\n",
        "# Important library for many geopython libraries\n",
        "!apt install gdal-bin python-gdal python3-gdal \n",
        "# Install rtree - Geopandas requirment\n",
        "!apt install python3-rtree \n",
        "# Install Geopandas\n",
        "!pip install git+git://github.com/geopandas/geopandas.git\n",
        "# Install descartes - Geopandas requirment\n",
        "!pip install descartes \n",
        "# Install Folium for Geographic data visualization\n",
        "!pip install folium\n",
        "# Install plotlyExpress\n",
        "!pip install plotly_express\n",
        "!pip3 install pygal_maps_world"
      ],
      "execution_count": null,
      "outputs": []
    },
    {
      "cell_type": "markdown",
      "metadata": {
        "id": "l5mrXlKEZsbc"
      },
      "source": [
        "# Imports"
      ]
    },
    {
      "cell_type": "code",
      "metadata": {
        "colab": {
          "base_uri": "https://localhost:8080/"
        },
        "id": "eDNRPjhIROyk",
        "outputId": "efdc1c87-19e6-49bf-c0f8-656932cf8c9a"
      },
      "source": [
        "import pygal\n",
        "\n",
        "import plotly\n",
        "from plotly import __version__\n",
        "print (__version__)\n",
        "from plotly.offline import download_plotlyjs, init_notebook_mode, plot, iplot\n",
        "\n",
        "import pandas as pd\n",
        "import seaborn as sns\n",
        "import numpy as np\n",
        "import matplotlib.pyplot as plt\n",
        "import matplotlib.patches as mpatches\n",
        "from datetime import datetime\n",
        "import plotly.figure_factory as ff\n",
        "\n",
        "dic_users = {1: 'New User', 2: 'Returning User'}\n",
        "\n",
        "# read the csv and generate a Panda\n",
        "users = pd.read_csv('New vs Returning - Connected Sheet 1.csv')"
      ],
      "execution_count": 2,
      "outputs": [
        {
          "output_type": "stream",
          "name": "stdout",
          "text": [
            "5.3.1\n"
          ]
        }
      ]
    },
    {
      "cell_type": "markdown",
      "metadata": {
        "id": "4BiDOTqJ2lTF"
      },
      "source": [
        "# Filter by Date and plot New and Returning"
      ]
    },
    {
      "cell_type": "code",
      "metadata": {
        "cellView": "code",
        "id": "7CXjF2pB3Ftm"
      },
      "source": [
        "#@title Dates Range for Report\n",
        "from_date = \"2021-05-10\" #@param {type:\"date\"}\n",
        "to_date = \"2021-09-09\" #@param {type:\"date\"}\n",
        "\n",
        "\n",
        "date_input = '%Y-%m-%d'\n",
        "date_output = '%m/%d/%Y'\n",
        "activity_input = '%m/%d/%Y %H:%M:%S'\n",
        "# convert from\n",
        "datetimeobject = datetime.strptime(from_date,date_input)\n",
        "from_date = datetimeobject.strftime(date_output)\n",
        "\n",
        "#convert to\n",
        "datetimeobject = datetime.strptime(to_date,date_input)\n",
        "to_date = datetimeobject.strftime(date_output)\n",
        "\n",
        "# dates go from May-10 to Sept-9\n",
        "users['date'] = '' \n",
        "for ind in users.index:\n",
        "  dateactivity = datetime.strptime(users['activity'][ind],activity_input)\n",
        "  users['date'][ind] = dateactivity.strftime(date_output)\n",
        "\n",
        "# get ready to slice\n",
        "users_sliced = users[(users['date'] >= from_date) & (users['date'] <= to_date)].sort_values(by='date', ascending=True)\n",
        "\n",
        "# now we start slicing the info, we add the Amount Users field\n",
        "users_sliced[ 'Amount Users'] = 0\n",
        "# we only work with three columns\n",
        "users_sliced = users_sliced[['user_type','client', 'Amount Users']]\n",
        "# we group them\n",
        "users_sliced = users_sliced.groupby([ 'user_type', 'client'])['Amount Users'].count().reset_index()\n",
        "# we sort them\n",
        "users_sliced = users_sliced.sort_values(by='Amount Users', ascending=False).reset_index()\n",
        "\n",
        "# start with the plot\n",
        "plt.figure(figsize=(8,10))\n",
        "\n",
        "# bar chart 1 -> top bars -> Returning Users\n",
        "bar1 = sns.barplot(x=\"Amount Users\",  y=\"client\", data=users_sliced, color='darkblue', orient='h')\n",
        "\n",
        "# bottom bar ->  take only smoker=Yes values from the data\n",
        "final = users_sliced[users_sliced.user_type == dic_users[1]]\n",
        "\n",
        "# bar chart 2 -> bottom bars -> New Users - validates there are data in\n",
        "try:\n",
        "  bar2 = sns.barplot(x=\"Amount Users\", y=\"client\", data=final, estimator=sum, ci=100,  color='lightblue', orient='h')\n",
        "except:\n",
        "  print('bar2 is empty')\n",
        "\n",
        "# add legend\n",
        "top_bar = mpatches.Patch(color='darkblue', label='Returning Users')\n",
        "bottom_bar = mpatches.Patch(color='lightblue', label='New Users')\n",
        "plt.legend(handles=[top_bar, bottom_bar])"
      ],
      "execution_count": null,
      "outputs": []
    },
    {
      "cell_type": "markdown",
      "metadata": {
        "id": "k5teT0syOeWw"
      },
      "source": [
        "# Methods\n"
      ]
    },
    {
      "cell_type": "code",
      "metadata": {
        "id": "cgROHSQx8wkq"
      },
      "source": [
        "    def ConvertCountryFileToCSV():\n",
        "\n",
        "        file_input = open('countries.csv', 'r')\n",
        "        file_output = open('countries_converted.csv', 'w')\n",
        "\n",
        "        file_output.write('Code' + ',' + 'Name\\n')\n",
        "\n",
        "        for line in file_input:\n",
        "            code_input = line.strip()[0:2]\n",
        "            country_input = line.strip()[3:]\n",
        "            file_output.write(code_input + ',' + country_input + '\\n')\n",
        "\n",
        "\n",
        "    def ConvertCountryFileToDict(countries):\n",
        "            \n",
        "            countries = dict()\n",
        "            file_input = open('countries_converted.csv', 'r')\n",
        "\n",
        "            for line in file_input:\n",
        "                    line = line.strip('\\n')\n",
        "                    (key, val) = (line[3:],line[0:2])\n",
        "                    countries[key] = val\n",
        "\n",
        "            return countries"
      ],
      "execution_count": 21,
      "outputs": []
    },
    {
      "cell_type": "markdown",
      "metadata": {
        "id": "2akO00tdi9HW"
      },
      "source": [
        "# Visualize Maps"
      ]
    },
    {
      "cell_type": "code",
      "metadata": {
        "id": "aRTy22vSjDM3"
      },
      "source": [
        "# Fresh version of users to filter\n",
        "users_sliced = users.copy()\n",
        "\n",
        "countries = dict()\n",
        "countries = ConvertCountryFileToDict(countries)\n",
        "\n",
        "headers = ['Continent_Name','Continent_Code','Country_Name','Two_Letter_Country_Code','Three_Letter_Country_Code','Country_Number']\n",
        "\n",
        "#Initialize map\n",
        "worldmap =  pygal.maps.world.World()\n",
        "\n",
        "# now we start slicing the info, we add the Amount Users field\n",
        "users_sliced['Amount Users'] = 0\n",
        "# we only work with three columns\n",
        "users_sliced = users_sliced[['country','client', 'Amount Users']]\n",
        "\n",
        "# we group them\n",
        "users_sliced = users_sliced.groupby(['country'])['Amount Users'].count().reset_index()\n",
        "# we sort them\n",
        "\n",
        "\n",
        "#users_sliced = users_sliced.sort_values(by='Amount Users', ascending=False).reset_index()\n",
        "\n",
        "users_sliced['Code'] = 0\n",
        "\n",
        "\n",
        "\n",
        "my_dictionary.clear()\n",
        "\n",
        "for ind in users_sliced.index:\n",
        "    users_sliced['Code'][ind] = countries.get(users_sliced.get('country')[ind])\n",
        "    my_dictionary.update({users_sliced['Code'][ind]:users_sliced['Amount Users'][ind]})\n",
        "\n",
        "# set the title of the map\n",
        "worldmap.title = 'Interactions from A+ in different Countries'\n",
        "\n",
        "# adding the countries\n",
        "worldmap.add('Countries', my_dictionary)\n",
        "\n",
        "worldmap.render_to_png('interactions.png')\n",
        "\n",
        "\n",
        "\n",
        "\n"
      ],
      "execution_count": 31,
      "outputs": []
    }
  ]
}