{
  "nbformat": 4,
  "nbformat_minor": 0,
  "metadata": {
    "colab": {
      "name": "Finanzas.ipynb",
      "provenance": [],
      "collapsed_sections": [],
      "authorship_tag": "ABX9TyPexg/njGaS9xyJnSeDlBzN",
      "include_colab_link": true
    },
    "kernelspec": {
      "name": "python3",
      "display_name": "Python 3"
    },
    "language_info": {
      "name": "python"
    }
  },
  "cells": [
    {
      "cell_type": "markdown",
      "metadata": {
        "id": "view-in-github",
        "colab_type": "text"
      },
      "source": [
        "<a href=\"https://colab.research.google.com/github/diegoavarela/colab-tests/blob/main/Colab-Sales.ipynb\" target=\"_parent\"><img src=\"https://colab.research.google.com/assets/colab-badge.svg\" alt=\"Open In Colab\"/></a>"
      ]
    },
    {
      "cell_type": "markdown",
      "metadata": {
        "id": "ywYlipX1oJkf"
      },
      "source": [
        "# Convert to Month\n"
      ]
    },
    {
      "cell_type": "code",
      "metadata": {
        "id": "nCDS4Hh4DcFc"
      },
      "source": [
        "def toMonth(month_id):\n",
        "  month = {1: 'January', 2: 'February', 3:'March', 4:'April', 5:'May', 6:'June', 7:'July', 8:'August',\n",
        "           9:'September', 10:'October', 11:'November', 12:'December'}\n",
        "\n",
        "  month_number = int(month_id)\n",
        "\n",
        "  return month[month_number]"
      ],
      "execution_count": 1,
      "outputs": []
    },
    {
      "cell_type": "markdown",
      "metadata": {
        "id": "Y3kPF2OOjKwC"
      },
      "source": [
        "# Read Spend on Mastercard and group by Month"
      ]
    },
    {
      "cell_type": "code",
      "metadata": {
        "colab": {
          "base_uri": "https://localhost:8080/"
        },
        "id": "_k5X79Xhm5Lp",
        "outputId": "508b8a2c-3bff-4f37-f6ab-0659a7893857"
      },
      "source": [
        "import pandas as pd\n",
        "\n",
        "spend = pd.read_csv('/content/my_data/Mastercard - Year to date.CSV')\n",
        "\n",
        "stores = spend.copy()\n",
        "stores_grouped = spend.copy()\n",
        "\n",
        "spend['Month'] = spend['Date'].str[1:2]\n",
        "spend['Month'] = spend['Month'].astype('int32')\n",
        "\n",
        "\n",
        "for ind in spend.index:\n",
        "     spend['Month'][ind] = toMonth(spend['Month'][ind])\n",
        "\n",
        "spend_per_year = spend.groupby(['Month']).sum()\n",
        "\n",
        "\n"
      ],
      "execution_count": 2,
      "outputs": [
        {
          "output_type": "stream",
          "name": "stderr",
          "text": [
            "/usr/local/lib/python3.7/dist-packages/ipykernel_launcher.py:16: SettingWithCopyWarning: \n",
            "A value is trying to be set on a copy of a slice from a DataFrame\n",
            "\n",
            "See the caveats in the documentation: https://pandas.pydata.org/pandas-docs/stable/user_guide/indexing.html#returning-a-view-versus-a-copy\n",
            "  app.launch_new_instance()\n",
            "/usr/local/lib/python3.7/dist-packages/pandas/core/indexing.py:670: SettingWithCopyWarning: \n",
            "A value is trying to be set on a copy of a slice from a DataFrame\n",
            "\n",
            "See the caveats in the documentation: https://pandas.pydata.org/pandas-docs/stable/user_guide/indexing.html#returning-a-view-versus-a-copy\n",
            "  iloc._setitem_with_indexer(indexer, value)\n"
          ]
        }
      ]
    },
    {
      "cell_type": "markdown",
      "metadata": {
        "id": "ryX7ED6HjXVV"
      },
      "source": [
        "# Review spend from stores"
      ]
    },
    {
      "cell_type": "code",
      "metadata": {
        "colab": {
          "base_uri": "https://localhost:8080/",
          "height": 472
        },
        "id": "ecLMc12uQTzq",
        "outputId": "d9d0e3ba-927b-4482-8b14-54444e090d64"
      },
      "source": [
        "import matplotlib.pyplot as plt\n",
        "\n",
        "stores_grouped = stores.groupby(['Description']).sum()\n",
        "stores_grouped['Total'] = 0\n",
        "stores_grouped['Net'] = stores_grouped['Debit'] + stores_grouped['Credit']\n",
        "\n",
        "stores_grouped2 = stores.groupby(['Description']).Description.count()\n",
        "\n",
        "\n",
        "for ind in stores_grouped.index:\n",
        "    stores_grouped['Total'][ind] = stores_grouped2[ind]\n",
        "\n",
        "stores_grouped = stores_grouped.sort_values(by='Net', ascending=False).reset_index()\n",
        "\n",
        "to_plot = stores_grouped.head(5)\n",
        "\n",
        "x_axis = to_plot['Description']\n",
        "y_axis = to_plot['Net']\n",
        "\n",
        "plt.figure(figsize=(8,5), frameon=True)\n",
        "plt.grid(axis='x') \n",
        "plt.barh(x_axis,y_axis, color='green')\n",
        "plt.title('5 biggest charges')\n",
        "plt.ylabel('Shop')\n",
        "plt.xlabel('Money Net')\n",
        "\n",
        "\n",
        "\n",
        "\n",
        "\n"
      ],
      "execution_count": 75,
      "outputs": [
        {
          "output_type": "stream",
          "name": "stderr",
          "text": [
            "/usr/local/lib/python3.7/dist-packages/ipykernel_launcher.py:11: SettingWithCopyWarning: \n",
            "A value is trying to be set on a copy of a slice from a DataFrame\n",
            "\n",
            "See the caveats in the documentation: https://pandas.pydata.org/pandas-docs/stable/user_guide/indexing.html#returning-a-view-versus-a-copy\n",
            "  # This is added back by InteractiveShellApp.init_path()\n"
          ]
        },
        {
          "output_type": "execute_result",
          "data": {
            "text/plain": [
              "Text(0.5, 0, 'Money Net')"
            ]
          },
          "metadata": {},
          "execution_count": 75
        },
        {
          "output_type": "display_data",
          "data": {
            "image/png": "[encoded data removed]",
            "text/plain": [
              "<Figure size 576x360 with 1 Axes>"
            ]
          },
          "metadata": {
            "needs_background": "light"
          }
        }
      ]
    }
  ]
}